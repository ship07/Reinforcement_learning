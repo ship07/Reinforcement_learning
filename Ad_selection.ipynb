{
  "nbformat": 4,
  "nbformat_minor": 0,
  "metadata": {
    "colab": {
      "name": "Untitled",
      "provenance": []
    },
    "kernelspec": {
      "name": "python3",
      "display_name": "Python 3"
    }
  },
  "cells": [
    {
      "cell_type": "code",
      "metadata": {
        "id": "fPJRufLanpgF",
        "colab_type": "code",
        "colab": {}
      },
      "source": [
        "import pandas as pd\n",
        "import numpy as np\n",
        "import matplotlib.pyplot as plt"
      ],
      "execution_count": 1,
      "outputs": []
    },
    {
      "cell_type": "code",
      "metadata": {
        "id": "EuV_5aTttqfH",
        "colab_type": "code",
        "colab": {}
      },
      "source": [
        "dataset=pd.read_csv('Ads_CTR_Optimisation.csv')"
      ],
      "execution_count": 2,
      "outputs": []
    },
    {
      "cell_type": "code",
      "metadata": {
        "id": "eCMvbx6Htqr8",
        "colab_type": "code",
        "colab": {}
      },
      "source": [
        "import math\n",
        "N=10000\n",
        "d=10\n",
        "ad_selected=[0]*d\n",
        "number_of_selection=[0]*d\n",
        "sum_of_reward=[0]*d\n",
        "total_rewards=0\n",
        "for n in range(0,N):\n",
        "  ad=0\n",
        "  max_upper_bound=0\n",
        "  for i in range(0,d):\n",
        "    if number_of_selection[i] > 0:\n",
        "      average_reward=sum_of_reward[i]/number_of_selection[i]\n",
        "      delta_i=math.sqrt(3/2*math.log(n+1)/number_of_selection[i])\n",
        "      upper_bound=average_reward+delta_i\n",
        "    else:\n",
        "      upper_bound=1e400\n",
        "    if upper_bound>max_upper_bound :\n",
        "      max_upper_bound=upper_bound\n",
        "      ad=i\n",
        "  ad_selected.append(ad)\n",
        "  number_of_selection[ad]=number_of_selection[ad]+1\n",
        "  reward=dataset.values[n,ad]\n",
        "  sum_of_reward[ad]=sum_of_reward[ad]+reward\n",
        "  total_rewards=total_rewards+reward\n"
      ],
      "execution_count": 8,
      "outputs": []
    },
    {
      "cell_type": "code",
      "metadata": {
        "id": "dFZnm6_ztqvO",
        "colab_type": "code",
        "colab": {
          "base_uri": "https://localhost:8080/",
          "height": 295
        },
        "outputId": "c459bfb6-8c57-4b48-832a-6e4e32e74e78"
      },
      "source": [
        "plt.hist(ad_selected)\n",
        "plt.title('Histogram for ad selection')\n",
        "plt.xlabel('Ads')\n",
        "plt.ylabel('Number of times each ads was selected')\n",
        "plt.show()"
      ],
      "execution_count": 10,
      "outputs": [
        {
          "output_type": "display_data",
          "data": {
            "image/png": "[encoded data removed]",
            "text/plain": [
              "<Figure size 432x288 with 1 Axes>"
            ]
          },
          "metadata": {
            "tags": [],
            "needs_background": "light"
          }
        }
      ]
    },
    {
      "cell_type": "code",
      "metadata": {
        "id": "K-4O7J5Btq1S",
        "colab_type": "code",
        "colab": {}
      },
      "source": [
        ""
      ],
      "execution_count": null,
      "outputs": []
    },
    {
      "cell_type": "code",
      "metadata": {
        "id": "ihvxyKVhtq6a",
        "colab_type": "code",
        "colab": {}
      },
      "source": [
        ""
      ],
      "execution_count": null,
      "outputs": []
    },
    {
      "cell_type": "code",
      "metadata": {
        "id": "kV8iXwnbtq-2",
        "colab_type": "code",
        "colab": {}
      },
      "source": [
        ""
      ],
      "execution_count": null,
      "outputs": []
    }
  ]
}